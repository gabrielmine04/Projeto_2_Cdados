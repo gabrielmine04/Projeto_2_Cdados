{
 "cells": [
  {
   "cell_type": "code",
   "execution_count": 1,
   "id": "3fa4ba30",
   "metadata": {},
   "outputs": [],
   "source": [
    "import pandas as pd\n",
    "import matplotlib.pyplot as plt\n",
    "\n",
    "import numpy as np\n",
    "df = pd.read_csv('cities_internet_prices_historical.24-10-2021.csv')\n",
    "df2 = pd.read_csv('GDP.csv')\n",
    "df3 = pd.read_excel('literacy.xls')\n",
    "df4 = pd.read_excel('internet_acess.xls')\n",
    "df5 = pd.read_csv('eletricity.csv')\n",
    "df6 = pd.read_excel('Foreign_Exchange_Rates.xlsx')\n",
    "df7 = pd.read_excel('celular.xls')\n",
    "\n"
   ]
  },
  {
   "cell_type": "code",
   "execution_count": 2,
   "id": "955759cd",
   "metadata": {},
   "outputs": [],
   "source": [
    "#Cria o Dataframe dos precos medios de internet no ano de 2018\n",
    "internet = df.groupby('Country').mean() #media dos valores das cidades em cada pais\n",
    "minimo = 0.1\n",
    " #Remove valores zerados\n",
    "internet = internet.dropna() #Remove Valores NaN\n"
   ]
  },
  {
   "cell_type": "code",
   "execution_count": 3,
   "id": "ba6cd3af",
   "metadata": {},
   "outputs": [],
   "source": [
    "#Atribuição de uma coluna com os nomes dos paises (Ja que usamos Gruopby tivemos que adicionar tal coluna)\n",
    "paises = df[['Country']] \n",
    "paises.sort_values('Country')\n",
    "novo = pd.DataFrame()\n",
    "novo['Country'] = paises\n",
    "novo['Country'] = paises.sort_values('Country', ascending=False)\n",
    "novo = novo.drop_duplicates(subset='Country', keep='first') #remove nomes de paises repetidos\n",
    "novo = novo.sort_values('Country')\n",
    "a = pd.merge(internet,novo,how='right',on = 'Country') #junta a lista de paises com os respectivos precos\n",
    "a  = a.dropna() #remove valores NaN que podem ter aparecidos na junta\n",
    "paisesa = a['Country'].tolist() # pega a lista de paises"
   ]
  },
  {
   "cell_type": "code",
   "execution_count": 4,
   "id": "cce484a3",
   "metadata": {},
   "outputs": [
    {
     "name": "stderr",
     "output_type": "stream",
     "text": [
      "C:\\Users\\caiot\\AppData\\Local\\Temp/ipykernel_5476/3756653230.py:7: SettingWithCopyWarning: \n",
      "A value is trying to be set on a copy of a slice from a DataFrame.\n",
      "Try using .loc[row_indexer,col_indexer] = value instead\n",
      "\n",
      "See the caveats in the documentation: https://pandas.pydata.org/pandas-docs/stable/user_guide/indexing.html#returning-a-view-versus-a-copy\n",
      "  gdp['Country'] = ['Brazil']\n"
     ]
    }
   ],
   "source": [
    "#Cria Dataframes do PIB por capita do ano de 2018\n",
    "gdp_sujo = (df2.loc[df2['Country '] == 'Brazil']) #Remove valores NaN de pib\n",
    "gdppaises = gdp_sujo['Country '].tolist()\n",
    "net = a.loc[a['Country']=='Brazil']\n",
    "net = net.iloc[:,:-2]\n",
    "gdp = gdp_sujo.iloc[:,22:31]\n",
    "gdp['Country'] = ['Brazil']\n"
   ]
  },
  {
   "cell_type": "code",
   "execution_count": 5,
   "id": "9103c7ae",
   "metadata": {},
   "outputs": [],
   "source": [
    "df3 = df3.loc[df3['Data Source']=='Brazil']\n",
    "df3 = df3.iloc[:,54:-2]\n",
    "df3['Country'] = 'Brazil'\n",
    "df3.columns = ['2010', '2011','2012','2013','2014','2015','2016','2017','2018','Country']\n",
    "literacy = df3"
   ]
  },
  {
   "cell_type": "code",
   "execution_count": 6,
   "id": "9252ff5b",
   "metadata": {},
   "outputs": [],
   "source": [
    "df4 = df4.loc[df4['Data Source']=='Brazil']\n",
    "df4 = df4.iloc[:,54:-2]\n",
    "df4['Country'] = 'Brazil'\n",
    "df4.columns = ['2010', '2011','2012','2013','2014','2015','2016','2017','2018','Country']\n",
    "acess = df4"
   ]
  },
  {
   "cell_type": "code",
   "execution_count": 7,
   "id": "ee97b752",
   "metadata": {},
   "outputs": [],
   "source": [
    "df5 = pd.read_csv('eletricity.csv')\n",
    "eletricity = df5.iloc[31:37,0:3].transpose().iloc[2:3]\n",
    "eletricity.columns = ['2010', '2011','2012','2013','2014','2015']\n"
   ]
  },
  {
   "cell_type": "code",
   "execution_count": 8,
   "id": "055d05e8",
   "metadata": {},
   "outputs": [
    {
     "data": {
      "text/html": [
       "<div>\n",
       "<style scoped>\n",
       "    .dataframe tbody tr th:only-of-type {\n",
       "        vertical-align: middle;\n",
       "    }\n",
       "\n",
       "    .dataframe tbody tr th {\n",
       "        vertical-align: top;\n",
       "    }\n",
       "\n",
       "    .dataframe thead th {\n",
       "        text-align: right;\n",
       "    }\n",
       "</style>\n",
       "<table border=\"1\" class=\"dataframe\">\n",
       "  <thead>\n",
       "    <tr style=\"text-align: right;\">\n",
       "      <th></th>\n",
       "      <th>Internet Price, 2010</th>\n",
       "      <th>Internet Price, 2011</th>\n",
       "      <th>Internet Price, 2012</th>\n",
       "      <th>Internet Price, 2013</th>\n",
       "      <th>Internet Price, 2014</th>\n",
       "      <th>Internet Price, 2015</th>\n",
       "      <th>Internet Price, 2016</th>\n",
       "      <th>Internet Price, 2017</th>\n",
       "      <th>Internet Price, 2018</th>\n",
       "    </tr>\n",
       "  </thead>\n",
       "  <tbody>\n",
       "    <tr>\n",
       "      <th>16</th>\n",
       "      <td>3.270539</td>\n",
       "      <td>19.667399</td>\n",
       "      <td>10.842013</td>\n",
       "      <td>13.253811</td>\n",
       "      <td>16.122042</td>\n",
       "      <td>15.000438</td>\n",
       "      <td>18.028048</td>\n",
       "      <td>23.72509</td>\n",
       "      <td>31.871232</td>\n",
       "    </tr>\n",
       "  </tbody>\n",
       "</table>\n",
       "</div>"
      ],
      "text/plain": [
       "    Internet Price, 2010  Internet Price, 2011  Internet Price, 2012  \\\n",
       "16              3.270539             19.667399             10.842013   \n",
       "\n",
       "    Internet Price, 2013  Internet Price, 2014  Internet Price, 2015  \\\n",
       "16             13.253811             16.122042             15.000438   \n",
       "\n",
       "    Internet Price, 2016  Internet Price, 2017  Internet Price, 2018  \n",
       "16             18.028048              23.72509             31.871232  "
      ]
     },
     "execution_count": 8,
     "metadata": {},
     "output_type": "execute_result"
    }
   ],
   "source": [
    "conversao = df6.loc[:,['Time Serie', 'BRAZIL - REAL/US$']]\n",
    "conversao = df6.loc[:,['Time Serie', 'BRAZIL - REAL/US$']]\n",
    "\n",
    "\n",
    "listaANO = []\n",
    "for data in conversao['Time Serie']:\n",
    "    if data[2] ==\"0\" and data[3] == '0':\n",
    "        listaANO.append(2000)\n",
    "    elif data[2] ==\"0\" and data[3] == '1':\n",
    "        listaANO.append(2001)\n",
    "    elif data[2] ==\"0\" and data[3] == '2':\n",
    "        listaANO.append(2002)\n",
    "    elif data[2] ==\"0\" and data[3] == '3':\n",
    "        listaANO.append(2003)\n",
    "    elif data[2] ==\"0\" and data[3] == '4':\n",
    "        listaANO.append(2004)\n",
    "    elif data[2] ==\"0\" and data[3] == '5':\n",
    "        listaANO.append(2005)\n",
    "    elif data[2] ==\"0\" and data[3] == '6':\n",
    "        listaANO.append(2006)\n",
    "    elif data[2] ==\"0\" and data[3] == '7':\n",
    "        listaANO.append(2007)\n",
    "    elif data[2] ==\"0\" and data[3] == '8':\n",
    "        listaANO.append(2008)\n",
    "    elif data[2] ==\"0\" and data[3] == '9':\n",
    "        listaANO.append(2009)\n",
    "    elif data[2] ==\"1\" and data[3] == '0':\n",
    "        listaANO.append(2010)\n",
    "    elif data[2] ==\"1\" and data[3] == '1':\n",
    "        listaANO.append(2011)\n",
    "    elif data[2] ==\"1\" and data[3] == '2':\n",
    "        listaANO.append(2012)\n",
    "    elif data[2] ==\"1\" and data[3] == '3':\n",
    "        listaANO.append(2013)\n",
    "    elif data[2] ==\"1\" and data[3] == '4':\n",
    "        listaANO.append(2014)\n",
    "    elif data[2] ==\"1\" and data[3] == '5':\n",
    "        listaANO.append(2015)\n",
    "    elif data[2] ==\"1\" and data[3] == '6':\n",
    "        listaANO.append(2016)\n",
    "    elif data[2] ==\"1\" and data[3] == '7':\n",
    "        listaANO.append(2017)\n",
    "    elif data[2] ==\"1\" and data[3] == '8':\n",
    "        listaANO.append(2018)\n",
    "    elif data[2] ==\"1\" and data[3] == '9':\n",
    "        listaANO.append(2019)\n",
    "\n",
    "\n",
    "conversao['Ano'] = listaANO\n",
    "\n",
    "indexs = conversao.loc[conversao['BRAZIL - REAL/US$'] == 'ND'].index\n",
    "conversao2 = conversao.drop(indexs)\n",
    "conversao2['BRAZIL - REAL/US$'] = conversao2['BRAZIL - REAL/US$'].astype('float')\n",
    "\n",
    "dolar = conversao2.groupby('Ano').mean().iloc[10:-1].transpose()\n",
    "net.iloc[:1,1:]"
   ]
  },
  {
   "cell_type": "code",
   "execution_count": 12,
   "id": "8ec9fe89",
   "metadata": {},
   "outputs": [
    {
     "data": {
      "text/html": [
       "<div>\n",
       "<style scoped>\n",
       "    .dataframe tbody tr th:only-of-type {\n",
       "        vertical-align: middle;\n",
       "    }\n",
       "\n",
       "    .dataframe tbody tr th {\n",
       "        vertical-align: top;\n",
       "    }\n",
       "\n",
       "    .dataframe thead th {\n",
       "        text-align: right;\n",
       "    }\n",
       "</style>\n",
       "<table border=\"1\" class=\"dataframe\">\n",
       "  <thead>\n",
       "    <tr style=\"text-align: right;\">\n",
       "      <th></th>\n",
       "      <th>2010</th>\n",
       "      <th>2011</th>\n",
       "      <th>2012</th>\n",
       "      <th>2013</th>\n",
       "      <th>2014</th>\n",
       "      <th>2015</th>\n",
       "      <th>2016</th>\n",
       "      <th>2017</th>\n",
       "      <th>2018</th>\n",
       "    </tr>\n",
       "  </thead>\n",
       "  <tbody>\n",
       "    <tr>\n",
       "      <th>Brazil</th>\n",
       "      <td>196929978.0</td>\n",
       "      <td>234357507.0</td>\n",
       "      <td>248323703.0</td>\n",
       "      <td>271099799.0</td>\n",
       "      <td>280728796.0</td>\n",
       "      <td>257814274.0</td>\n",
       "      <td>244067356.0</td>\n",
       "      <td>221269215.0</td>\n",
       "      <td>209410048.0</td>\n",
       "    </tr>\n",
       "  </tbody>\n",
       "</table>\n",
       "</div>"
      ],
      "text/plain": [
       "               2010         2011         2012         2013         2014  \\\n",
       "Brazil  196929978.0  234357507.0  248323703.0  271099799.0  280728796.0   \n",
       "\n",
       "               2015         2016         2017         2018  \n",
       "Brazil  257814274.0  244067356.0  221269215.0  209410048.0  "
      ]
     },
     "execution_count": 12,
     "metadata": {},
     "output_type": "execute_result"
    }
   ],
   "source": [
    "\n",
    "celular = df7.loc[df7['Country Name']=='Brazil',['2010','2011','2012','2013','2014','2015','2016','2017','2018']]\n",
    "celular.rename(index={29:'Brazil'})"
   ]
  },
  {
   "cell_type": "code",
   "execution_count": 13,
   "id": "9df8d80f",
   "metadata": {
    "scrolled": true
   },
   "outputs": [
    {
     "name": "stdout",
     "output_type": "stream",
     "text": [
      "------------------------------------------------------------TARGET-------------------------------------------------------------\n",
      "NET\n"
     ]
    },
    {
     "data": {
      "text/html": [
       "<div>\n",
       "<style scoped>\n",
       "    .dataframe tbody tr th:only-of-type {\n",
       "        vertical-align: middle;\n",
       "    }\n",
       "\n",
       "    .dataframe tbody tr th {\n",
       "        vertical-align: top;\n",
       "    }\n",
       "\n",
       "    .dataframe thead th {\n",
       "        text-align: right;\n",
       "    }\n",
       "</style>\n",
       "<table border=\"1\" class=\"dataframe\">\n",
       "  <thead>\n",
       "    <tr style=\"text-align: right;\">\n",
       "      <th></th>\n",
       "      <th>Country</th>\n",
       "      <th>Internet Price, 2010</th>\n",
       "      <th>Internet Price, 2011</th>\n",
       "      <th>Internet Price, 2012</th>\n",
       "      <th>Internet Price, 2013</th>\n",
       "      <th>Internet Price, 2014</th>\n",
       "      <th>Internet Price, 2015</th>\n",
       "      <th>Internet Price, 2016</th>\n",
       "      <th>Internet Price, 2017</th>\n",
       "      <th>Internet Price, 2018</th>\n",
       "    </tr>\n",
       "  </thead>\n",
       "  <tbody>\n",
       "    <tr>\n",
       "      <th>16</th>\n",
       "      <td>Brazil</td>\n",
       "      <td>3.270539</td>\n",
       "      <td>19.667399</td>\n",
       "      <td>10.842013</td>\n",
       "      <td>13.253811</td>\n",
       "      <td>16.122042</td>\n",
       "      <td>15.000438</td>\n",
       "      <td>18.028048</td>\n",
       "      <td>23.72509</td>\n",
       "      <td>31.871232</td>\n",
       "    </tr>\n",
       "  </tbody>\n",
       "</table>\n",
       "</div>"
      ],
      "text/plain": [
       "   Country  Internet Price, 2010  Internet Price, 2011  Internet Price, 2012  \\\n",
       "16  Brazil              3.270539             19.667399             10.842013   \n",
       "\n",
       "    Internet Price, 2013  Internet Price, 2014  Internet Price, 2015  \\\n",
       "16             13.253811             16.122042             15.000438   \n",
       "\n",
       "    Internet Price, 2016  Internet Price, 2017  Internet Price, 2018  \n",
       "16             18.028048              23.72509             31.871232  "
      ]
     },
     "metadata": {},
     "output_type": "display_data"
    },
    {
     "name": "stdout",
     "output_type": "stream",
     "text": [
      "------------------------------------------------------------FEATURES-----------------------------------------------------------\n",
      "GDP\n"
     ]
    },
    {
     "data": {
      "text/html": [
       "<div>\n",
       "<style scoped>\n",
       "    .dataframe tbody tr th:only-of-type {\n",
       "        vertical-align: middle;\n",
       "    }\n",
       "\n",
       "    .dataframe tbody tr th {\n",
       "        vertical-align: top;\n",
       "    }\n",
       "\n",
       "    .dataframe thead th {\n",
       "        text-align: right;\n",
       "    }\n",
       "</style>\n",
       "<table border=\"1\" class=\"dataframe\">\n",
       "  <thead>\n",
       "    <tr style=\"text-align: right;\">\n",
       "      <th></th>\n",
       "      <th>2010</th>\n",
       "      <th>2011</th>\n",
       "      <th>2012</th>\n",
       "      <th>2013</th>\n",
       "      <th>2014</th>\n",
       "      <th>2015</th>\n",
       "      <th>2016</th>\n",
       "      <th>2017</th>\n",
       "      <th>2018</th>\n",
       "      <th>Country</th>\n",
       "    </tr>\n",
       "  </thead>\n",
       "  <tbody>\n",
       "    <tr>\n",
       "      <th>25</th>\n",
       "      <td>14320.36869</td>\n",
       "      <td>15061.95319</td>\n",
       "      <td>15506.55426</td>\n",
       "      <td>16111.44268</td>\n",
       "      <td>16358.39077</td>\n",
       "      <td>15813.85544</td>\n",
       "      <td>15331.54852</td>\n",
       "      <td>15662.24047</td>\n",
       "      <td>16096.40096</td>\n",
       "      <td>Brazil</td>\n",
       "    </tr>\n",
       "  </tbody>\n",
       "</table>\n",
       "</div>"
      ],
      "text/plain": [
       "           2010         2011         2012         2013         2014  \\\n",
       "25  14320.36869  15061.95319  15506.55426  16111.44268  16358.39077   \n",
       "\n",
       "           2015         2016         2017         2018 Country  \n",
       "25  15813.85544  15331.54852  15662.24047  16096.40096  Brazil  "
      ]
     },
     "metadata": {},
     "output_type": "display_data"
    },
    {
     "name": "stdout",
     "output_type": "stream",
     "text": [
      "Literacy(%)\n"
     ]
    },
    {
     "data": {
      "text/html": [
       "<div>\n",
       "<style scoped>\n",
       "    .dataframe tbody tr th:only-of-type {\n",
       "        vertical-align: middle;\n",
       "    }\n",
       "\n",
       "    .dataframe tbody tr th {\n",
       "        vertical-align: top;\n",
       "    }\n",
       "\n",
       "    .dataframe thead th {\n",
       "        text-align: right;\n",
       "    }\n",
       "</style>\n",
       "<table border=\"1\" class=\"dataframe\">\n",
       "  <thead>\n",
       "    <tr style=\"text-align: right;\">\n",
       "      <th></th>\n",
       "      <th>2010</th>\n",
       "      <th>2011</th>\n",
       "      <th>2012</th>\n",
       "      <th>2013</th>\n",
       "      <th>2014</th>\n",
       "      <th>2015</th>\n",
       "      <th>2016</th>\n",
       "      <th>2017</th>\n",
       "      <th>2018</th>\n",
       "      <th>Country</th>\n",
       "    </tr>\n",
       "  </thead>\n",
       "  <tbody>\n",
       "    <tr>\n",
       "      <th>32</th>\n",
       "      <td>90.056183</td>\n",
       "      <td>91.168983</td>\n",
       "      <td>91.025673</td>\n",
       "      <td>91.177963</td>\n",
       "      <td>91.366768</td>\n",
       "      <td>91.725159</td>\n",
       "      <td>92.575157</td>\n",
       "      <td>92.891533</td>\n",
       "      <td>93.009041</td>\n",
       "      <td>Brazil</td>\n",
       "    </tr>\n",
       "  </tbody>\n",
       "</table>\n",
       "</div>"
      ],
      "text/plain": [
       "         2010       2011       2012       2013       2014       2015  \\\n",
       "32  90.056183  91.168983  91.025673  91.177963  91.366768  91.725159   \n",
       "\n",
       "         2016       2017       2018 Country  \n",
       "32  92.575157  92.891533  93.009041  Brazil  "
      ]
     },
     "metadata": {},
     "output_type": "display_data"
    },
    {
     "name": "stdout",
     "output_type": "stream",
     "text": [
      "Eletricity(TW/H)\n"
     ]
    },
    {
     "data": {
      "text/html": [
       "<div>\n",
       "<style scoped>\n",
       "    .dataframe tbody tr th:only-of-type {\n",
       "        vertical-align: middle;\n",
       "    }\n",
       "\n",
       "    .dataframe tbody tr th {\n",
       "        vertical-align: top;\n",
       "    }\n",
       "\n",
       "    .dataframe thead th {\n",
       "        text-align: right;\n",
       "    }\n",
       "</style>\n",
       "<table border=\"1\" class=\"dataframe\">\n",
       "  <thead>\n",
       "    <tr style=\"text-align: right;\">\n",
       "      <th></th>\n",
       "      <th>2010</th>\n",
       "      <th>2011</th>\n",
       "      <th>2012</th>\n",
       "      <th>2013</th>\n",
       "      <th>2014</th>\n",
       "      <th>2015</th>\n",
       "    </tr>\n",
       "  </thead>\n",
       "  <tbody>\n",
       "    <tr>\n",
       "      <th>Tw/h</th>\n",
       "      <td>415.941</td>\n",
       "      <td>433.324</td>\n",
       "      <td>448.76</td>\n",
       "      <td>463.978</td>\n",
       "      <td>477.424</td>\n",
       "      <td>464.402</td>\n",
       "    </tr>\n",
       "  </tbody>\n",
       "</table>\n",
       "</div>"
      ],
      "text/plain": [
       "         2010     2011    2012     2013     2014     2015\n",
       "Tw/h  415.941  433.324  448.76  463.978  477.424  464.402"
      ]
     },
     "metadata": {},
     "output_type": "display_data"
    },
    {
     "name": "stdout",
     "output_type": "stream",
     "text": [
      "Dolar($/R$)\n"
     ]
    },
    {
     "data": {
      "text/html": [
       "<div>\n",
       "<style scoped>\n",
       "    .dataframe tbody tr th:only-of-type {\n",
       "        vertical-align: middle;\n",
       "    }\n",
       "\n",
       "    .dataframe tbody tr th {\n",
       "        vertical-align: top;\n",
       "    }\n",
       "\n",
       "    .dataframe thead th {\n",
       "        text-align: right;\n",
       "    }\n",
       "</style>\n",
       "<table border=\"1\" class=\"dataframe\">\n",
       "  <thead>\n",
       "    <tr style=\"text-align: right;\">\n",
       "      <th>Ano</th>\n",
       "      <th>2010</th>\n",
       "      <th>2011</th>\n",
       "      <th>2012</th>\n",
       "      <th>2013</th>\n",
       "      <th>2014</th>\n",
       "      <th>2015</th>\n",
       "      <th>2016</th>\n",
       "      <th>2017</th>\n",
       "      <th>2018</th>\n",
       "    </tr>\n",
       "  </thead>\n",
       "  <tbody>\n",
       "    <tr>\n",
       "      <th>BRAZIL - REAL/US$</th>\n",
       "      <td>1.760016</td>\n",
       "      <td>1.672296</td>\n",
       "      <td>1.953492</td>\n",
       "      <td>2.157016</td>\n",
       "      <td>2.351193</td>\n",
       "      <td>3.336041</td>\n",
       "      <td>3.483858</td>\n",
       "      <td>3.191002</td>\n",
       "      <td>3.651309</td>\n",
       "    </tr>\n",
       "  </tbody>\n",
       "</table>\n",
       "</div>"
      ],
      "text/plain": [
       "Ano                    2010      2011      2012      2013      2014      2015  \\\n",
       "BRAZIL - REAL/US$  1.760016  1.672296  1.953492  2.157016  2.351193  3.336041   \n",
       "\n",
       "Ano                    2016      2017      2018  \n",
       "BRAZIL - REAL/US$  3.483858  3.191002  3.651309  "
      ]
     },
     "metadata": {},
     "output_type": "display_data"
    },
    {
     "name": "stdout",
     "output_type": "stream",
     "text": [
      "Internet Acess\n"
     ]
    },
    {
     "data": {
      "text/html": [
       "<div>\n",
       "<style scoped>\n",
       "    .dataframe tbody tr th:only-of-type {\n",
       "        vertical-align: middle;\n",
       "    }\n",
       "\n",
       "    .dataframe tbody tr th {\n",
       "        vertical-align: top;\n",
       "    }\n",
       "\n",
       "    .dataframe thead th {\n",
       "        text-align: right;\n",
       "    }\n",
       "</style>\n",
       "<table border=\"1\" class=\"dataframe\">\n",
       "  <thead>\n",
       "    <tr style=\"text-align: right;\">\n",
       "      <th></th>\n",
       "      <th>2010</th>\n",
       "      <th>2011</th>\n",
       "      <th>2012</th>\n",
       "      <th>2013</th>\n",
       "      <th>2014</th>\n",
       "      <th>2015</th>\n",
       "      <th>2016</th>\n",
       "      <th>2017</th>\n",
       "      <th>2018</th>\n",
       "      <th>Country</th>\n",
       "    </tr>\n",
       "  </thead>\n",
       "  <tbody>\n",
       "    <tr>\n",
       "      <th>32</th>\n",
       "      <td>40.65</td>\n",
       "      <td>45.69</td>\n",
       "      <td>48.56</td>\n",
       "      <td>51.04</td>\n",
       "      <td>54.551002</td>\n",
       "      <td>58.327952</td>\n",
       "      <td>60.87254</td>\n",
       "      <td>67.471285</td>\n",
       "      <td>70.434283</td>\n",
       "      <td>Brazil</td>\n",
       "    </tr>\n",
       "  </tbody>\n",
       "</table>\n",
       "</div>"
      ],
      "text/plain": [
       "     2010   2011   2012   2013       2014       2015      2016       2017  \\\n",
       "32  40.65  45.69  48.56  51.04  54.551002  58.327952  60.87254  67.471285   \n",
       "\n",
       "         2018 Country  \n",
       "32  70.434283  Brazil  "
      ]
     },
     "metadata": {},
     "output_type": "display_data"
    },
    {
     "name": "stdout",
     "output_type": "stream",
     "text": [
      "Quantidade celulares\n"
     ]
    },
    {
     "data": {
      "text/html": [
       "<div>\n",
       "<style scoped>\n",
       "    .dataframe tbody tr th:only-of-type {\n",
       "        vertical-align: middle;\n",
       "    }\n",
       "\n",
       "    .dataframe tbody tr th {\n",
       "        vertical-align: top;\n",
       "    }\n",
       "\n",
       "    .dataframe thead th {\n",
       "        text-align: right;\n",
       "    }\n",
       "</style>\n",
       "<table border=\"1\" class=\"dataframe\">\n",
       "  <thead>\n",
       "    <tr style=\"text-align: right;\">\n",
       "      <th></th>\n",
       "      <th>2010</th>\n",
       "      <th>2011</th>\n",
       "      <th>2012</th>\n",
       "      <th>2013</th>\n",
       "      <th>2014</th>\n",
       "      <th>2015</th>\n",
       "      <th>2016</th>\n",
       "      <th>2017</th>\n",
       "      <th>2018</th>\n",
       "    </tr>\n",
       "  </thead>\n",
       "  <tbody>\n",
       "    <tr>\n",
       "      <th>29</th>\n",
       "      <td>196929978.0</td>\n",
       "      <td>234357507.0</td>\n",
       "      <td>248323703.0</td>\n",
       "      <td>271099799.0</td>\n",
       "      <td>280728796.0</td>\n",
       "      <td>257814274.0</td>\n",
       "      <td>244067356.0</td>\n",
       "      <td>221269215.0</td>\n",
       "      <td>209410048.0</td>\n",
       "    </tr>\n",
       "  </tbody>\n",
       "</table>\n",
       "</div>"
      ],
      "text/plain": [
       "           2010         2011         2012         2013         2014  \\\n",
       "29  196929978.0  234357507.0  248323703.0  271099799.0  280728796.0   \n",
       "\n",
       "           2015         2016         2017         2018  \n",
       "29  257814274.0  244067356.0  221269215.0  209410048.0  "
      ]
     },
     "metadata": {},
     "output_type": "display_data"
    }
   ],
   "source": [
    "print('------------------------------------------------------------TARGET-------------------------------------------------------------')\n",
    "print('NET')\n",
    "display(net)\n",
    "print('------------------------------------------------------------FEATURES-----------------------------------------------------------')\n",
    "print('GDP')\n",
    "display(gdp)\n",
    "print('Literacy(%)')\n",
    "display(literacy)\n",
    "print('Eletricity(TW/H)')\n",
    "display(eletricity)\n",
    "print('Dolar($/R$)')\n",
    "display(dolar)\n",
    "print('Internet Acess')\n",
    "display(acess)\n",
    "print('Quantidade celulares')\n",
    "display(celular)\n",
    "\n"
   ]
  },
  {
   "cell_type": "code",
   "execution_count": 29,
   "id": "24751576",
   "metadata": {},
   "outputs": [
    {
     "data": {
      "text/html": [
       "<div>\n",
       "<style scoped>\n",
       "    .dataframe tbody tr th:only-of-type {\n",
       "        vertical-align: middle;\n",
       "    }\n",
       "\n",
       "    .dataframe tbody tr th {\n",
       "        vertical-align: top;\n",
       "    }\n",
       "\n",
       "    .dataframe thead th {\n",
       "        text-align: right;\n",
       "    }\n",
       "</style>\n",
       "<table border=\"1\" class=\"dataframe\">\n",
       "  <thead>\n",
       "    <tr style=\"text-align: right;\">\n",
       "      <th></th>\n",
       "      <th>BRAZIL - REAL/US$</th>\n",
       "    </tr>\n",
       "    <tr>\n",
       "      <th>Ano</th>\n",
       "      <th></th>\n",
       "    </tr>\n",
       "  </thead>\n",
       "  <tbody>\n",
       "    <tr>\n",
       "      <th>2010</th>\n",
       "      <td>1.760016</td>\n",
       "    </tr>\n",
       "    <tr>\n",
       "      <th>2011</th>\n",
       "      <td>1.672296</td>\n",
       "    </tr>\n",
       "    <tr>\n",
       "      <th>2012</th>\n",
       "      <td>1.953492</td>\n",
       "    </tr>\n",
       "    <tr>\n",
       "      <th>2013</th>\n",
       "      <td>2.157016</td>\n",
       "    </tr>\n",
       "    <tr>\n",
       "      <th>2014</th>\n",
       "      <td>2.351193</td>\n",
       "    </tr>\n",
       "    <tr>\n",
       "      <th>2015</th>\n",
       "      <td>3.336041</td>\n",
       "    </tr>\n",
       "    <tr>\n",
       "      <th>2016</th>\n",
       "      <td>3.483858</td>\n",
       "    </tr>\n",
       "    <tr>\n",
       "      <th>2017</th>\n",
       "      <td>3.191002</td>\n",
       "    </tr>\n",
       "    <tr>\n",
       "      <th>2018</th>\n",
       "      <td>3.651309</td>\n",
       "    </tr>\n",
       "  </tbody>\n",
       "</table>\n",
       "</div>"
      ],
      "text/plain": [
       "      BRAZIL - REAL/US$\n",
       "Ano                    \n",
       "2010           1.760016\n",
       "2011           1.672296\n",
       "2012           1.953492\n",
       "2013           2.157016\n",
       "2014           2.351193\n",
       "2015           3.336041\n",
       "2016           3.483858\n",
       "2017           3.191002\n",
       "2018           3.651309"
      ]
     },
     "execution_count": 29,
     "metadata": {},
     "output_type": "execute_result"
    }
   ],
   "source": [
    "f = dolar.iloc[:1,0:].transpose()\n",
    "f"
   ]
  },
  {
   "cell_type": "code",
   "execution_count": 41,
   "id": "ac6add66",
   "metadata": {},
   "outputs": [
    {
     "data": {
      "image/png": "[encoded data removed]",
      "text/plain": [
       "<Figure size 432x288 with 1 Axes>"
      ]
     },
     "metadata": {
      "needs_background": "light"
     },
     "output_type": "display_data"
    },
    {
     "data": {
      "text/plain": [
       "-0.13315720182727564"
      ]
     },
     "execution_count": 41,
     "metadata": {},
     "output_type": "execute_result"
    }
   ],
   "source": [
    "plt.scatter(net.iloc[:1,1:],gdp.iloc[:1,0:-1])\n",
    "plt.show()\n",
    "z = net.iloc[:1,1:].transpose()\n",
    "\n",
    "f = celular.iloc[:1,0:].transpose()\n",
    "f.columns = ['oi']\n",
    "z.columns = ['um']\n",
    "c = f['oi'].tolist()\n",
    "z['dois'] = c\n",
    "corr_X3_X5 = z.um.corr(z.dois)\n",
    "corr_X3_X5\n"
   ]
  },
  {
   "cell_type": "code",
   "execution_count": 11,
   "id": "530631ce",
   "metadata": {},
   "outputs": [
    {
     "data": {
      "text/html": [
       "<div>\n",
       "<style scoped>\n",
       "    .dataframe tbody tr th:only-of-type {\n",
       "        vertical-align: middle;\n",
       "    }\n",
       "\n",
       "    .dataframe tbody tr th {\n",
       "        vertical-align: top;\n",
       "    }\n",
       "\n",
       "    .dataframe thead th {\n",
       "        text-align: right;\n",
       "    }\n",
       "</style>\n",
       "<table border=\"1\" class=\"dataframe\">\n",
       "  <thead>\n",
       "    <tr style=\"text-align: right;\">\n",
       "      <th></th>\n",
       "      <th>2010</th>\n",
       "      <th>2011</th>\n",
       "      <th>2012</th>\n",
       "      <th>2013</th>\n",
       "      <th>2014</th>\n",
       "      <th>2015</th>\n",
       "      <th>2016</th>\n",
       "      <th>2017</th>\n",
       "      <th>2018</th>\n",
       "    </tr>\n",
       "  </thead>\n",
       "  <tbody>\n",
       "    <tr>\n",
       "      <th>Brazil</th>\n",
       "      <td>196929978.0</td>\n",
       "      <td>234357507.0</td>\n",
       "      <td>248323703.0</td>\n",
       "      <td>271099799.0</td>\n",
       "      <td>280728796.0</td>\n",
       "      <td>257814274.0</td>\n",
       "      <td>244067356.0</td>\n",
       "      <td>221269215.0</td>\n",
       "      <td>209410048.0</td>\n",
       "    </tr>\n",
       "  </tbody>\n",
       "</table>\n",
       "</div>"
      ],
      "text/plain": [
       "               2010         2011         2012         2013         2014  \\\n",
       "Brazil  196929978.0  234357507.0  248323703.0  271099799.0  280728796.0   \n",
       "\n",
       "               2015         2016         2017         2018  \n",
       "Brazil  257814274.0  244067356.0  221269215.0  209410048.0  "
      ]
     },
     "execution_count": 11,
     "metadata": {},
     "output_type": "execute_result"
    }
   ],
   "source": []
  }
 ],
 "metadata": {
  "kernelspec": {
   "display_name": "Python 3 (ipykernel)",
   "language": "python",
   "name": "python3"
  },
  "language_info": {
   "codemirror_mode": {
    "name": "ipython",
    "version": 3
   },
   "file_extension": ".py",
   "mimetype": "text/x-python",
   "name": "python",
   "nbconvert_exporter": "python",
   "pygments_lexer": "ipython3",
   "version": "3.8.11"
  }
 },
 "nbformat": 4,
 "nbformat_minor": 5
}
